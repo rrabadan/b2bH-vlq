{
 "cells": [
  {
   "cell_type": "code",
   "execution_count": null,
   "id": "0",
   "metadata": {},
   "outputs": [],
   "source": [
    "import uproot\n",
    "import matplotlib.pyplot as plt\n",
    "import numpy as np\n",
    "from itertools import product"
   ]
  },
  {
   "cell_type": "code",
   "execution_count": null,
   "id": "1",
   "metadata": {},
   "outputs": [],
   "source": [
    "import hepkit\n",
    "from hepkit import Var"
   ]
  },
  {
   "cell_type": "code",
   "execution_count": null,
   "id": "2",
   "metadata": {},
   "outputs": [],
   "source": [
    "from b2bH_vlq import get_variable_group_names, get_variables_by_group\n",
    "get_variable_group_names()"
   ]
  },
  {
   "cell_type": "code",
   "execution_count": null,
   "id": "3",
   "metadata": {},
   "outputs": [],
   "source": [
    "all_vars = {}\n",
    "for gr in get_variable_group_names():\n",
    "    all_vars.update(get_variables_by_group(gr))\n",
    "all_vars.keys()"
   ]
  },
  {
   "cell_type": "code",
   "execution_count": null,
   "id": "4",
   "metadata": {},
   "outputs": [],
   "source": [
    "#all_vars[\"photon1_pt\"].expression = np.log\n",
    "#all_vars[\"photon2_pt\"].expression = np.log\n",
    "#all_vars[\"diphoton_pt\"].expression = np.log\n",
    "#all_vars[\"bjet_pt\"].expression = np.log\n",
    "#all_vars[\"forward_jet_pt\"].expression = np.log\n",
    "#all_vars[\"HT\"].expression = np.log\n",
    "#all_vars[\"VLQ_pt\"].expression = np.log"
   ]
  },
  {
   "cell_type": "code",
   "execution_count": null,
   "id": "5",
   "metadata": {},
   "outputs": [],
   "source": [
    "from hepkit.histograms import hist1d_from_var, plot_hist1d_comparison, multi_hist1d_comparison\n",
    "from hepkit.plotting import set_cms_style, create_multiplot_layout\n",
    "set_cms_style(grid=True)"
   ]
  },
  {
   "cell_type": "markdown",
   "id": "6",
   "metadata": {},
   "source": [
    "### Load signal and bkg files"
   ]
  },
  {
   "cell_type": "code",
   "execution_count": null,
   "id": "7",
   "metadata": {},
   "outputs": [],
   "source": [
    "t_sig = uproot.open(\"../data/BDT_tree_M1000_14TeV.root:BbH_tree\")\n",
    "t_bkg = uproot.open(\"../data/BKG_tree_tHq_14TeV.root:BbH_tree\")"
   ]
  },
  {
   "cell_type": "code",
   "execution_count": null,
   "id": "8",
   "metadata": {},
   "outputs": [],
   "source": [
    "df_sig = t_sig.arrays(library=\"pd\")\n",
    "df_bkg = t_bkg.arrays(library=\"pd\")"
   ]
  },
  {
   "cell_type": "markdown",
   "id": "9",
   "metadata": {},
   "source": [
    "- Convert multiplicity columns to integers originally stored as float\n",
    "- Create unique ids based on the Event number (Nevts column)"
   ]
  },
  {
   "cell_type": "code",
   "execution_count": null,
   "id": "10",
   "metadata": {},
   "outputs": [],
   "source": [
    "# Convert multiplicity columns to integers\n",
    "df_sig = df_sig.astype({\n",
    "    'n_bjet': 'int32',\n",
    "    'n_jets': 'int32',\n",
    "    'n_fjet': 'int32',\n",
    "},)\n",
    "df_bkg = df_bkg.astype({\n",
    "    'n_bjet': 'int32',\n",
    "    'n_jets': 'int32',\n",
    "    'n_fjet': 'int32',\n",
    "},)"
   ]
  },
  {
   "cell_type": "code",
   "execution_count": null,
   "id": "11",
   "metadata": {},
   "outputs": [],
   "source": [
    "df_sig[\"NEvts\"] = int(1e6) + df_sig.NEvts\n",
    "df_bkg[\"NEvts\"] = int(2e6) + df_bkg.NEvts"
   ]
  },
  {
   "cell_type": "code",
   "execution_count": null,
   "id": "12",
   "metadata": {},
   "outputs": [],
   "source": [
    "df_bkg.columns"
   ]
  },
  {
   "cell_type": "markdown",
   "id": "13",
   "metadata": {},
   "source": [
    "## BDT training\n",
    "\n",
    "We'll use catboost classifier por signal background classification."
   ]
  },
  {
   "cell_type": "markdown",
   "id": "14",
   "metadata": {},
   "source": [
    "Select as input features kinematic variables $p_{T}$ and $\\eta$ from  the VLQ candidate and its decay products.\n",
    "Also include $H_{T}$ and deltaR between b-jet and Higgs candidates."
   ]
  },
  {
   "cell_type": "code",
   "execution_count": null,
   "id": "15",
   "metadata": {},
   "outputs": [],
   "source": [
    "cands = [\"photon1\", \"photon2\", \"diphoton\", \"bjet\", \"VLQ\"]\n",
    "obs = [\"pt\", \"eta\"]\n",
    "\n",
    "mva_vars = { }\n",
    "for cand, obs in product(cands, obs):\n",
    "    key = f\"{cand}_{obs}\"\n",
    "    mva_vars[key] = all_vars[key]\n",
    "mva_vars[\"HT\"] = all_vars[\"HT\"]\n",
    "mva_vars[\"deltaR_bjet_Higgs\"] = all_vars[\"deltaR_bjet_Higgs\"]\n",
    "mva_vars.keys()"
   ]
  },
  {
   "cell_type": "code",
   "execution_count": null,
   "id": "16",
   "metadata": {},
   "outputs": [],
   "source": [
    "mva_names = list(mva_vars.keys())\n",
    "sig_mva_hist = {}\n",
    "bkg_mva_hist = {}\n",
    "for name in mva_names:\n",
    "    var = mva_vars[name]\n",
    "    sig_mva_hist[name] = hist1d_from_var(var, df_sig)\n",
    "    bkg_mva_hist[name] = hist1d_from_var(var, df_bkg)"
   ]
  },
  {
   "cell_type": "code",
   "execution_count": null,
   "id": "17",
   "metadata": {},
   "outputs": [],
   "source": [
    "from sklearn.model_selection import train_test_split\n",
    "from hepkit.classification.preprocessing import prepare_training_data, split_train_test_by_unique_id"
   ]
  },
  {
   "cell_type": "code",
   "execution_count": null,
   "id": "18",
   "metadata": {},
   "outputs": [],
   "source": [
    "from hepkit.classification.visualization import (\n",
    "    plot_signal_background_comparison,\n",
    "    plot_train_test_response,\n",
    "    plot_signal_efficiency_vs_background_rejection,\n",
    "    plot_roc_auc,\n",
    "    plot_shap_summary\n",
    ")"
   ]
  },
  {
   "cell_type": "code",
   "execution_count": null,
   "id": "19",
   "metadata": {},
   "outputs": [],
   "source": [
    "fig, axes = plot_signal_background_comparison(\n",
    "    sig_mva_hist, bkg_mva_hist, subplot_titles=False\n",
    ")\n",
    "plt.tight_layout()"
   ]
  },
  {
   "cell_type": "code",
   "execution_count": null,
   "id": "20",
   "metadata": {},
   "outputs": [],
   "source": [
    "Xy, ids = prepare_training_data(\n",
    "    df_sig, df_bkg, mva_vars.values(), mva_vars.values(), id_columns=[\"NEvts\"]\n",
    ")"
   ]
  },
  {
   "cell_type": "code",
   "execution_count": null,
   "id": "21",
   "metadata": {},
   "outputs": [],
   "source": [
    "train_set, test_set = split_train_test_by_unique_id(\n",
    "    Xy, ids, test_ratio=0.2, id_columns=[\"NEvts\"], \n",
    ")"
   ]
  },
  {
   "cell_type": "code",
   "execution_count": null,
   "id": "22",
   "metadata": {},
   "outputs": [],
   "source": [
    "# Define the training and validation sets\n",
    "train_X, val_X, train_y, val_y = train_test_split(\n",
    "    train_set.drop(\"label\", axis=1), train_set[\"label\"], test_size=0.2, random_state=42\n",
    ")"
   ]
  },
  {
   "cell_type": "markdown",
   "id": "23",
   "metadata": {},
   "source": [
    "Train the model"
   ]
  },
  {
   "cell_type": "code",
   "execution_count": null,
   "id": "24",
   "metadata": {},
   "outputs": [],
   "source": [
    "from hepkit.classification.catboost_utils import (\n",
    "    create_catboost_pools, \n",
    "    cross_val_catboost_model,\n",
    "    get_catboost_shap_values,\n",
    "    plot_catboost_learning_curve,\n",
    "    train_catboost_model,\n",
    ")"
   ]
  },
  {
   "cell_type": "code",
   "execution_count": null,
   "id": "25",
   "metadata": {},
   "outputs": [],
   "source": [
    "cb_params = {\n",
    "    \"loss_function\": \"Logloss\",\n",
    "    \"eval_metric\": \"AUC\",\n",
    "    \"custom_metric\": [\"Accuracy\", \"Precision\"],  # \"Recall\", \"F1\"],\n",
    "    \"iterations\": 2500,\n",
    "    \"random_state\": 42,\n",
    "    \"learning_rate\": 0.05,\n",
    "    \"depth\": 2,\n",
    "    #'rsm': 0.5,\n",
    "    #'reg_lambda': 1,\n",
    "    'od_wait': 100,\n",
    "}"
   ]
  },
  {
   "cell_type": "code",
   "execution_count": null,
   "id": "26",
   "metadata": {},
   "outputs": [],
   "source": [
    "cv_data = cross_val_catboost_model(cb_params, X=train_X, y=train_y, nfolds=5, plot=True, stratified=False)"
   ]
  },
  {
   "cell_type": "code",
   "execution_count": null,
   "id": "27",
   "metadata": {},
   "outputs": [],
   "source": [
    "best_value = cv_data[\"test-Logloss-mean\"].min()\n",
    "best_iter = cv_data[\"test-Logloss-mean\"].values.argmin()\n",
    "print(best_iter, best_value)"
   ]
  },
  {
   "cell_type": "code",
   "execution_count": null,
   "id": "28",
   "metadata": {},
   "outputs": [],
   "source": [
    "model = train_catboost_model(\n",
    "    cb_params, train_X, train_y, val_X, val_y, plot=True\n",
    ")"
   ]
  },
  {
   "cell_type": "code",
   "execution_count": null,
   "id": "29",
   "metadata": {},
   "outputs": [],
   "source": [
    "plot_catboost_learning_curve(model)"
   ]
  },
  {
   "cell_type": "code",
   "execution_count": null,
   "id": "30",
   "metadata": {},
   "outputs": [],
   "source": [
    "train_predict = model.predict(train_X)\n",
    "train_proba = model.predict_proba(train_X) # these are the scores\n",
    "val_predict = model.predict(val_X)\n",
    "val_proba = model.predict_proba(val_X) # these are the scores"
   ]
  },
  {
   "cell_type": "markdown",
   "id": "31",
   "metadata": {},
   "source": [
    "Check overfitting"
   ]
  },
  {
   "cell_type": "code",
   "execution_count": null,
   "id": "32",
   "metadata": {},
   "outputs": [],
   "source": [
    "plot_train_test_response(\n",
    "    model,\n",
    "    train_X, train_y, val_X, val_y, log_y=True\n",
    ")"
   ]
  },
  {
   "cell_type": "code",
   "execution_count": null,
   "id": "33",
   "metadata": {},
   "outputs": [],
   "source": [
    "plot_signal_efficiency_vs_background_rejection(train_y, train_proba[:, 1])"
   ]
  },
  {
   "cell_type": "code",
   "execution_count": null,
   "id": "34",
   "metadata": {},
   "outputs": [],
   "source": [
    "plot_roc_auc(\n",
    "    train_y, train_proba[:, 1])"
   ]
  },
  {
   "cell_type": "code",
   "execution_count": null,
   "id": "35",
   "metadata": {},
   "outputs": [],
   "source": [
    "train_pool, val_pool = create_catboost_pools(train_X, train_y)\n",
    "shap_values = get_catboost_shap_values(model, train_pool)\n",
    "shap_values.shape"
   ]
  },
  {
   "cell_type": "code",
   "execution_count": null,
   "id": "36",
   "metadata": {},
   "outputs": [],
   "source": [
    "plot_shap_summary(shap_values, train_X)"
   ]
  }
 ],
 "metadata": {
  "kernelspec": {
   "display_name": "b2bh-vql",
   "language": "python",
   "name": "python3"
  },
  "language_info": {
   "codemirror_mode": {
    "name": "ipython",
    "version": 3
   },
   "file_extension": ".py",
   "mimetype": "text/x-python",
   "name": "python",
   "nbconvert_exporter": "python",
   "pygments_lexer": "ipython3",
   "version": "3.13.5"
  }
 },
 "nbformat": 4,
 "nbformat_minor": 5
}
